{
 "cells": [
  {
   "cell_type": "code",
   "execution_count": 1,
   "id": "d6c9bbd4-3538-44f7-a498-0fdfbcd773c7",
   "metadata": {},
   "outputs": [
    {
     "name": "stderr",
     "output_type": "stream",
     "text": [
      "In /home/sjaak/miniconda3/envs/rsudp/lib/python3.7/site-packages/matplotlib/mpl-data/stylelib/_classic_test.mplstyle: \n",
      "The text.latex.preview rcparam was deprecated in Matplotlib 3.3 and will be removed two minor releases later.\n",
      "In /home/sjaak/miniconda3/envs/rsudp/lib/python3.7/site-packages/matplotlib/mpl-data/stylelib/_classic_test.mplstyle: \n",
      "The mathtext.fallback_to_cm rcparam was deprecated in Matplotlib 3.3 and will be removed two minor releases later.\n",
      "In /home/sjaak/miniconda3/envs/rsudp/lib/python3.7/site-packages/matplotlib/mpl-data/stylelib/_classic_test.mplstyle: Support for setting the 'mathtext.fallback_to_cm' rcParam is deprecated since 3.3 and will be removed two minor releases later; use 'mathtext.fallback : 'cm' instead.\n",
      "In /home/sjaak/miniconda3/envs/rsudp/lib/python3.7/site-packages/matplotlib/mpl-data/stylelib/_classic_test.mplstyle: \n",
      "The validate_bool_maybe_none function was deprecated in Matplotlib 3.3 and will be removed two minor releases later.\n",
      "In /home/sjaak/miniconda3/envs/rsudp/lib/python3.7/site-packages/matplotlib/mpl-data/stylelib/_classic_test.mplstyle: \n",
      "The savefig.jpeg_quality rcparam was deprecated in Matplotlib 3.3 and will be removed two minor releases later.\n",
      "In /home/sjaak/miniconda3/envs/rsudp/lib/python3.7/site-packages/matplotlib/mpl-data/stylelib/_classic_test.mplstyle: \n",
      "The keymap.all_axes rcparam was deprecated in Matplotlib 3.3 and will be removed two minor releases later.\n",
      "In /home/sjaak/miniconda3/envs/rsudp/lib/python3.7/site-packages/matplotlib/mpl-data/stylelib/_classic_test.mplstyle: \n",
      "The animation.avconv_path rcparam was deprecated in Matplotlib 3.3 and will be removed two minor releases later.\n",
      "In /home/sjaak/miniconda3/envs/rsudp/lib/python3.7/site-packages/matplotlib/mpl-data/stylelib/_classic_test.mplstyle: \n",
      "The animation.avconv_args rcparam was deprecated in Matplotlib 3.3 and will be removed two minor releases later.\n"
     ]
    }
   ],
   "source": [
    "import rsudp.raspberryshake as rs\n",
    "from obspy.core.stream import Stream\n",
    "import obspy as obs\n",
    "from obspy import read\n",
    "\n",
    "import matplotlib\n",
    "%matplotlib qt # make sure you have the PyQT package installed in the environment\n",
    "import matplotlib.pyplot as plt\n",
    "import matplotlib.animation as animation\n",
    "from matplotlib import style\n",
    "import time\n",
    "from IPython.display import display, clear_output\n",
    "from matplotlib.widgets import Button\n",
    "import pickle\n",
    "import io"
   ]
  },
  {
   "cell_type": "code",
   "execution_count": 2,
   "id": "93e05153-1c2d-4ce9-a391-f0652f45057d",
   "metadata": {},
   "outputs": [
    {
     "name": "stderr",
     "output_type": "stream",
     "text": [
      "[get_inventory] WARNING: No station name given, continuing without inventory.\n"
     ]
    }
   ],
   "source": [
    "rs.initRSlib() # running this twice in a row gives an error. Restart kernel in that case\n",
    "s = Stream()\n"
   ]
  },
  {
   "cell_type": "code",
   "execution_count": 4,
   "id": "bc14115f-61ee-478a-9328-5637997acda4",
   "metadata": {},
   "outputs": [
    {
     "data": {
      "text/plain": [
       "0"
      ]
     },
     "execution_count": 4,
     "metadata": {},
     "output_type": "execute_result"
    }
   ],
   "source": [
    "components = ['Z','N']#,'E'] # components to plot. e.g. only Z, or all three Z, N, E\n",
    "\n",
    "cl = len(components)\n",
    "fig = plt.figure()\n",
    "if 'Z' in components:\n",
    "    ax1 = fig.add_subplot(cl, 1, 1) # Z-component \n",
    "if 'E' in components:\n",
    "    ax2 = fig.add_subplot(cl, 1, cl-1) # E-component\n",
    "if 'N' in components:\n",
    "    ax3 = fig.add_subplot(cl, 1, cl) # N-component\n",
    "\n",
    "# Define functions for pausing, resuming and duplicating animation\n",
    "pause = False\n",
    "class Pausing: \n",
    "    def pause(self, event):\n",
    "        global pause\n",
    "        pause = True\n",
    "\n",
    "    def resume(self, event):\n",
    "        global pause\n",
    "        pause = False\n",
    "\n",
    "    def duplicate(self, event): # duplicate one timeframe of the traces\n",
    "        # inx =  # ax number 3 (N component)               \n",
    "        # if not event.inaxes: return\n",
    "        # inx = list(fig.axes).index(event.inaxes)\n",
    "        buf = io.BytesIO()\n",
    "        pickle.dump(fig, buf)\n",
    "        buf.seek(0)\n",
    "        fig2 = pickle.load(buf)         \n",
    "        for i, ax in enumerate(fig2.axes):\n",
    "            if i > len(components)-1: # delete the button axes for duplicated figure\n",
    "                fig2.delaxes(ax)\n",
    "            else:\n",
    "                axes=ax\n",
    "        # axes.change_geometry(1,1,1)\n",
    "        fig2.show() # still need to reshape figure nicely\n",
    "\n",
    "# Create buttons to interact with figure\n",
    "callback = Pausing() \n",
    "axpause = fig.add_axes([0.340, 0.9, 0.1, 0.075])\n",
    "axresume = fig.add_axes([0.450, 0.9, 0.1, 0.075])\n",
    "axdupl = fig.add_axes([0.560, 0.9, 0.1, 0.075])\n",
    "bpause = Button(axpause, 'Pause')\n",
    "bpause.on_clicked(callback.pause)\n",
    "bresume = Button(axresume, 'Resume')\n",
    "bresume.on_clicked(callback.resume)\n",
    "bdupl = Button(axdupl, 'Duplicate')\n",
    "bdupl.on_clicked(callback.duplicate)"
   ]
  },
  {
   "cell_type": "code",
   "execution_count": null,
   "id": "ed854bf6-84ed-4c03-a44c-87c0ee66dbc2",
   "metadata": {},
   "outputs": [],
   "source": []
  },
  {
   "cell_type": "code",
   "execution_count": 5,
   "id": "14db5e68-2450-47dc-80fa-ab85a1ca1729",
   "metadata": {},
   "outputs": [],
   "source": [
    "# plt.rcParams['fig.labelsize'] = 'x-large'\n",
    "# plt.rcParams('axes', labelsize='20')    # fontsize of the x and y labels\n",
    "\n",
    "# This function is called periodically from FuncAnimation\n",
    "import rsudp.raspberryshake as rs\n",
    "import matplotlib.pyplot as plt\n",
    "\n",
    "def animate(i):\n",
    "    global pause # necessary to declare global?\n",
    "    global components # idem? \n",
    "    \"\"\"\n",
    "    Function to be called by animation.FuncAnimation(). This function provides \n",
    "    for each frame to be plotted the relevant data. Plots Z, N and E-component data \n",
    "    retrieved from the connected Raspberry Shake seismometer. \n",
    "    Each time rs.getDATA() is called, only one component is updated. Therefore we call\n",
    "    it three times to update all 3 components. \n",
    "    \"\"\"\n",
    "    for i in range(3):\n",
    "        d = rs.getDATA() # regardless of 'pause', we keep updating the data\n",
    "        if not pause:    \n",
    "            rs.update_stream(s, d) # if pause = True, we stop writing data to plotting \n",
    "                                   # variable\n",
    "    trE = s.select(channel=\"EHE\")[0] # index [0] to obtain only trace present inside stream\n",
    "    trN = s.select(channel=\"EHN\")[0]\n",
    "    trZ = s.select(channel=\"EHZ\")[0]\n",
    "\n",
    "    fig.canvas.draw()\n",
    "    fig.canvas.flush_events()\n",
    "\n",
    "    # Define time window for plotting\n",
    "    et = trZ.stats.endtime\n",
    "    delta=10 # time window in seconds \n",
    "    newet = et-delta\n",
    "    trZ = trZ.slice(starttime=newet, endtime=et) # trim time-window of data\n",
    "    trE = trE.slice(starttime=newet, endtime=et)\n",
    "    trN = trN.slice(starttime=newet, endtime=et)\n",
    "\n",
    "    if 'Z' in components: # plot Z-trace\n",
    "        ax1.clear() \n",
    "        ax1.plot(trZ.times(\"matplotlib\"), trZ.data, \"k-\", lw=0.5)\n",
    "        ax1.xaxis_date()\n",
    "        ax1.legend(['Vertical component [AM.Z0000.00.EHZ]'], loc='upper left')\n",
    "        # ax1.set_xlabel('Time')\n",
    "\n",
    "    if 'E' in components: # plot E-trace\n",
    "        ax2.clear() \n",
    "        ax2.plot(trE.times(\"matplotlib\"), trE.data, \"k-\", lw=0.5)\n",
    "        ax2.xaxis_date()\n",
    "        ax2.legend(['East-West component [AM.Z0000.00.EHE]'], loc='upper left')\n",
    "        ax2.set_xlabel('Time')#, fontsize=)\n",
    "        ax2.set_ylabel('Amplitude')\n",
    "\n",
    "    if 'N' in components: # plot N-trace\n",
    "        ax3.clear() \n",
    "        ax3.plot(trN.times(\"matplotlib\"), trN.data, \"k-\", lw=0.5)\n",
    "        ax3.xaxis_date()\n",
    "        ax3.legend(['North-South component [AM.Z0000.00.EHN]'], loc='upper left')\n",
    "        ax3.set_xlabel('Time')\n",
    "\n",
    "    if 'Z' in components and 'E' in components:\n",
    "        ax1.sharey(ax2)\n",
    "    if 'E' in components and 'N' in components:\n",
    "        ax3.sharey(ax2)    \n",
    "    fig.autofmt_xdate()  \n",
    "    plt.xticks(rotation=45, ha='right')\n",
    "\n",
    "# Set up plot to call animate() function periodically\n",
    "ani = animation.FuncAnimation(fig, animate, interval=1)\n",
    "plt.show()"
   ]
  },
  {
   "cell_type": "code",
   "execution_count": null,
   "id": "9639f132-40a2-41b7-9775-03c3e36649af",
   "metadata": {},
   "outputs": [],
   "source": []
  }
 ],
 "metadata": {
  "kernelspec": {
   "display_name": "Python [conda env:rsudp]",
   "language": "python",
   "name": "conda-env-rsudp-py"
  },
  "language_info": {
   "codemirror_mode": {
    "name": "ipython",
    "version": 3
   },
   "file_extension": ".py",
   "mimetype": "text/x-python",
   "name": "python",
   "nbconvert_exporter": "python",
   "pygments_lexer": "ipython3",
   "version": "3.7.12"
  }
 },
 "nbformat": 4,
 "nbformat_minor": 5
}
