{
 "cells": [
  {
   "cell_type": "code",
   "execution_count": 1,
   "id": "d6c9bbd4-3538-44f7-a498-0fdfbcd773c7",
   "metadata": {},
   "outputs": [
    {
     "name": "stderr",
     "output_type": "stream",
     "text": [
      "In /home/sjaak/miniconda3/envs/rsudp/lib/python3.7/site-packages/matplotlib/mpl-data/stylelib/_classic_test.mplstyle: \n",
      "The text.latex.preview rcparam was deprecated in Matplotlib 3.3 and will be removed two minor releases later.\n",
      "In /home/sjaak/miniconda3/envs/rsudp/lib/python3.7/site-packages/matplotlib/mpl-data/stylelib/_classic_test.mplstyle: \n",
      "The mathtext.fallback_to_cm rcparam was deprecated in Matplotlib 3.3 and will be removed two minor releases later.\n",
      "In /home/sjaak/miniconda3/envs/rsudp/lib/python3.7/site-packages/matplotlib/mpl-data/stylelib/_classic_test.mplstyle: Support for setting the 'mathtext.fallback_to_cm' rcParam is deprecated since 3.3 and will be removed two minor releases later; use 'mathtext.fallback : 'cm' instead.\n",
      "In /home/sjaak/miniconda3/envs/rsudp/lib/python3.7/site-packages/matplotlib/mpl-data/stylelib/_classic_test.mplstyle: \n",
      "The validate_bool_maybe_none function was deprecated in Matplotlib 3.3 and will be removed two minor releases later.\n",
      "In /home/sjaak/miniconda3/envs/rsudp/lib/python3.7/site-packages/matplotlib/mpl-data/stylelib/_classic_test.mplstyle: \n",
      "The savefig.jpeg_quality rcparam was deprecated in Matplotlib 3.3 and will be removed two minor releases later.\n",
      "In /home/sjaak/miniconda3/envs/rsudp/lib/python3.7/site-packages/matplotlib/mpl-data/stylelib/_classic_test.mplstyle: \n",
      "The keymap.all_axes rcparam was deprecated in Matplotlib 3.3 and will be removed two minor releases later.\n",
      "In /home/sjaak/miniconda3/envs/rsudp/lib/python3.7/site-packages/matplotlib/mpl-data/stylelib/_classic_test.mplstyle: \n",
      "The animation.avconv_path rcparam was deprecated in Matplotlib 3.3 and will be removed two minor releases later.\n",
      "In /home/sjaak/miniconda3/envs/rsudp/lib/python3.7/site-packages/matplotlib/mpl-data/stylelib/_classic_test.mplstyle: \n",
      "The animation.avconv_args rcparam was deprecated in Matplotlib 3.3 and will be removed two minor releases later.\n"
     ]
    }
   ],
   "source": [
    "import rsudp.raspberryshake as rs\n",
    "from obspy.core.stream import Stream\n",
    "import obspy as obs\n",
    "from obspy import read\n",
    "\n",
    "import matplotlib\n",
    "%matplotlib qt\n",
    "import matplotlib.pyplot as plt\n",
    "import matplotlib.animation as animation\n",
    "from matplotlib import style\n",
    "import time\n",
    "from IPython.display import display, clear_output\n"
   ]
  },
  {
   "cell_type": "code",
   "execution_count": 2,
   "id": "93e05153-1c2d-4ce9-a391-f0652f45057d",
   "metadata": {},
   "outputs": [
    {
     "name": "stderr",
     "output_type": "stream",
     "text": [
      "[get_inventory] WARNING: No station name given, continuing without inventory.\n"
     ]
    }
   ],
   "source": [
    "rs.initRSlib() # running this twice in a row gives an error. Restart kernel in that case\n",
    "s = Stream()\n",
    "plt.ion()\n",
    "fig = plt.figure()\n",
    "ax1 = fig.add_subplot(3, 1, 1) # Z-component \n",
    "ax2 = fig.add_subplot(3, 1, 2) # E-component\n",
    "ax3 = fig.add_subplot(3, 1, 3) # N-component\n",
    "\n",
    "def anipause():\n",
    "    global pause\n",
    "    pause = True\n",
    "\n",
    "def aniresume():\n",
    "    global pause\n",
    "    pause = False"
   ]
  },
  {
   "cell_type": "code",
   "execution_count": 3,
   "id": "4c22dbe7-c7bc-4cc0-ac8a-3f95ddb84815",
   "metadata": {},
   "outputs": [],
   "source": [
    "# plt.rcParams['fig.labelsize'] = 'x-large'\n",
    "# plt.rcParams('axes', labelsize='20')    # fontsize of the x and y labels\n",
    "\n",
    "global pause\n",
    "pause = False \n",
    "\n",
    "# This function is called periodically from FuncAnimation\n",
    "def animate(i):\n",
    "    \"\"\"\n",
    "    Function to be called by animation.FuncAnimation(). This function provides \n",
    "    for each frame to be plotted the relevant data. Plots Z, N and E-component data \n",
    "    retrieved from the connected Raspberry Shake seismometer. \n",
    "    \n",
    "    \"\"\"\n",
    "    for i in range(3):\n",
    "        d = rs.getDATA() # regardless of 'pause', we keep updating the data\n",
    "        if pause == False:        \n",
    "            rs.update_stream(s, d) # only for pause==False, we actually write \n",
    "                                   # the data to the plotting variable\n",
    "    trE = s.select(channel=\"EHE\")[0] # index [0] to obtain only trace present inside stream\n",
    "    trN = s.select(channel=\"EHN\")[0]\n",
    "    trZ = s.select(channel=\"EHZ\")[0]\n",
    "    \n",
    "    fig.canvas.draw()\n",
    "    fig.canvas.flush_events()\n",
    "    \n",
    "    et = trZ.stats.endtime\n",
    "    delta=12 # plotting time window in seconds \n",
    "    newet = et-delta\n",
    "    trZ = trZ.slice(starttime=newet, endtime=et) # trim time-window of data\n",
    "    trE = trE.slice(starttime=newet, endtime=et)\n",
    "    trN = trN.slice(starttime=newet, endtime=et)\n",
    "    \n",
    "    ax1.clear() # plot Z-trace\n",
    "    ax1.plot(trZ.times(\"matplotlib\"), trZ.data, \"k-\", lw=0.5)\n",
    "    ax1.xaxis_date()\n",
    "    ax1.legend(['Vertical component [AM.Z0000.00.EHZ]'], loc='upper left')\n",
    "    ax1.set_xlabel('Time')\n",
    "    # ax1.set_xticks(rotation=45, ha='right')\n",
    "    \n",
    "    ax2.clear() # plot E-trace\n",
    "    ax2.plot(trE.times(\"matplotlib\"), trE.data, \"k-\", lw=0.5)\n",
    "    ax2.xaxis_date()\n",
    "    ax2.legend(['East-West component [AM.Z0000.00.EHE]'], loc='upper left')\n",
    "    ax2.set_xlabel('Time')#, fontsize=)\n",
    "    ax2.set_ylabel('Amplitude')\n",
    "    # ax2.set_xticks(rotation=45, ha='right')\n",
    "    \n",
    "    ax3.clear() # plot N-trace\n",
    "    ax3.plot(trN.times(\"matplotlib\"), trN.data, \"k-\", lw=0.5)\n",
    "    ax3.xaxis_date()\n",
    "    ax3.legend(['North-South component [AM.Z0000.00.EHN]'], loc='upper left')\n",
    "    ax3.set_xlabel('Time')\n",
    "    # ax3.set_xticks(rotation=45, ha='right')\n",
    "    \n",
    "    ax1.sharey(ax2)\n",
    "    ax3.sharey(ax2)\n",
    "    fig.autofmt_xdate()  \n",
    "    plt.xticks(rotation=45, ha='right')\n",
    "\n",
    "# Set up plot to call animate() function periodically\n",
    "ani = animation.FuncAnimation(fig, animate, interval=100)\n",
    "plt.show()"
   ]
  },
  {
   "cell_type": "code",
   "execution_count": 5,
   "id": "9639f132-40a2-41b7-9775-03c3e36649af",
   "metadata": {},
   "outputs": [],
   "source": [
    "anipause()"
   ]
  },
  {
   "cell_type": "code",
   "execution_count": 6,
   "id": "e3e66bbb-77de-4e0c-84a6-a0b49662aa16",
   "metadata": {},
   "outputs": [],
   "source": [
    "aniresume()"
   ]
  },
  {
   "cell_type": "code",
   "execution_count": null,
   "id": "e77fe102-38a0-4ca0-be5b-55673c15a32d",
   "metadata": {},
   "outputs": [],
   "source": []
  },
  {
   "cell_type": "code",
   "execution_count": null,
   "id": "eaba8896-0132-4fe2-a73f-16c5f0552253",
   "metadata": {},
   "outputs": [],
   "source": []
  }
 ],
 "metadata": {
  "kernelspec": {
   "display_name": "Python [conda env:rsudp]",
   "language": "python",
   "name": "conda-env-rsudp-py"
  },
  "language_info": {
   "codemirror_mode": {
    "name": "ipython",
    "version": 3
   },
   "file_extension": ".py",
   "mimetype": "text/x-python",
   "name": "python",
   "nbconvert_exporter": "python",
   "pygments_lexer": "ipython3",
   "version": "3.7.12"
  }
 },
 "nbformat": 4,
 "nbformat_minor": 5
}
